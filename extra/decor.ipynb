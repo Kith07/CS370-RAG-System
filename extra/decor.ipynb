{
 "cells": [
  {
   "cell_type": "code",
   "execution_count": null,
   "metadata": {
    "vscode": {
     "languageId": "plaintext"
    }
   },
   "outputs": [],
   "source": [
    "from clearml import PipelineDecorator\n",
    "\n",
    "# Wrapper function for each crawler task\n",
    "@PipelineDecorator.component(name=\"YouTube-Crawler\", return_values=[\"status\"])\n",
    "def youtube_crawler(link: str) -> str:\n",
    "    try:\n",
    "        YouTubeCrawler().extract(link)\n",
    "        return \"YouTube Crawler Task Completed\"\n",
    "    except Exception as e:\n",
    "        return f\"Error in YouTube Crawler: {str(e)}\"\n",
    "\n",
    "@PipelineDecorator.component(name=\"GitHub Crawler\", return_values=[\"status\"])\n",
    "def github_crawler(link: str) -> str:\n",
    "    try:\n",
    "        GithubCrawler().extract(link)\n",
    "        return \"GitHub Crawler Task Completed\"\n",
    "    except Exception as e:\n",
    "        return f\"Error in GitHub Crawler: {str(e)}\"\n",
    "\n",
    "@PipelineDecorator.component(name=\"LinkedIn Crawler\", return_values=[\"status\"])\n",
    "def linkedin_crawler(link: str) -> str:\n",
    "    try:\n",
    "        LinkedInCrawler().extract(link)\n",
    "        return \"LinkedIn Crawler Task Completed\"\n",
    "    except Exception as e:\n",
    "        return f\"Error in LinkedIn Crawler: {str(e)}\"\n",
    "\n",
    "@PipelineDecorator.component(name=\"Medium Crawler\", return_values=[\"status\"])\n",
    "def medium_crawler(link: str) -> str:\n",
    "    try:\n",
    "        MediumCrawler().extract(link)\n",
    "        return \"Medium Crawler Task Completed\"\n",
    "    except Exception as e:\n",
    "        return f\"Error in Medium Crawler: {str(e)}\"\n",
    "\n",
    "@PipelineDecorator.component(name=\"Custom Crawler\", return_values=[\"status\"])\n",
    "def custom_crawler(link: str) -> str:\n",
    "    try:\n",
    "        CustomCrawler().extract(link)\n",
    "        return \"Custom Crawler Task Completed\"\n",
    "    except Exception as e:\n",
    "        return f\"Error in Custom Crawler: {str(e)}\"\n",
    "\n",
    "# Define the pipeline\n",
    "@PipelineDecorator.pipeline(name=\"Web Content Crawling Pipeline\", project=\"my project\", version=\"1.0\")\n",
    "def content_crawling_pipeline(youtube_link: str, github_link: str, linkedin_link: str, medium_link: str, custom_link: str):\n",
    "    youtube_status = youtube_crawler(link=youtube_link)\n",
    "    github_status = github_crawler(link=github_link)\n",
    "    linkedin_status = linkedin_crawler(link=linkedin_link)\n",
    "    medium_status = medium_crawler(link=medium_link)\n",
    "    custom_status = custom_crawler(link=custom_link)\n",
    "\n",
    "    return youtube_status, github_status, linkedin_status, medium_status, custom_status\n",
    "\n",
    "# Run the pipeline\n",
    "if __name__ == \"__main__\":\n",
    "    PipelineDecorator.run_locally()\n",
    "    content_crawling_pipeline(\n",
    "        youtube_link=\"https://www.youtube.com/watch?v=dQw4w9WgXcQ\"\n",
    "    )"
   ]
  }
 ],
 "metadata": {
  "language_info": {
   "name": "python"
  }
 },
 "nbformat": 4,
 "nbformat_minor": 2
}
