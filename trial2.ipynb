{
 "cells": [
  {
   "cell_type": "code",
   "execution_count": 1,
   "metadata": {},
   "outputs": [
    {
     "name": "stdout",
     "output_type": "stream",
     "text": [
      "ClearML Task: created new task id=027068805eaf435c921665c875ecd97f\n",
      "2024-12-07 02:07:00,699 - clearml.Repository Detection - WARNING - Could not read Jupyter Notebook: No module named 'nbconvert'\n",
      "2024-12-07 02:07:00,716 - clearml.Repository Detection - WARNING - Please install nbconvert using \"pip install nbconvert\"\n",
      "ClearML results page: http://localhost:8080/projects/19bbaae1f62b4cabb5b71164309d5cd5/experiments/027068805eaf435c921665c875ecd97f/output/log\n",
      "2024-12-07 02:07:00,749 - clearml.Task - INFO - Storing jupyter notebook directly as code\n"
     ]
    },
    {
     "name": "stderr",
     "output_type": "stream",
     "text": [
      "INFO:__main__:Scraping YouTube video: https://www.youtube.com/watch?v=dQw4w9WgXcQ\n"
     ]
    },
    {
     "name": "stdout",
     "output_type": "stream",
     "text": [
      "CLEARML-SERVER new package available: UPGRADE to v1.17.0 is recommended!\n",
      "Release Notes:\n",
      "### New Features \n",
      "- New ClearML Model dashboard: View all live model endpoints in a single location, complete with real time metrics reporting.\n",
      "- New UI pipeline run table comparative view: compare plots and scalars of selected pipeline runs\n",
      "- Improve services agent behavior: If no credentials are specified, agent uses default credentials ([ClearML Server GitHub issue #140](https://github.com/allegroai/clearml-server/issues/140))\n",
      "- Add UI re-enqueue of failed tasks\n",
      "- Add UI experiment scalar results table view\n",
      "- Add \"Block running user's scripts in the browser\" UI setting option for added security\n",
      "- Add UI \"Reset\" to set task installed packages to originally recorded values \n",
      "- Add UI edit of default Project default output destination\n",
      "\n",
      "### Bug Fixes\n",
      "- Fix broken download links to artifacts stored in Azure ([ClearML Server GitHub issue #247](https://github.com/allegroai/clearml-server/issues/247))\n",
      "- Fix Cross-site Scripting (XSS) vulnerability (CWE-79)\n",
      "- Fix UI experiment textual comparison diff showing contextual diffs as different contents ([ClearML GitHub issue #646](https://github.com/allegroai/clearml/issues/646))\n",
      "- Fix UI experiment comparison does not overlay box plots and histograms ([ClearML GitHub issue #1298](https://github.com/allegroai/clearml/issues/1298))\n",
      "- Fix UI plots display “Iteration 0” when it is the only reported iteration ([ClearML GitHub issue #1267](https://github.com/allegroai/clearml/issues/1267))\n",
      "- Fix scalar series starting with angle bracket (`<`) causes UI scalar plot legend to display raw html  ([ClearML GitHub issue #1292](https://github.com/allegroai/clearml/issues/1292))\n",
      "- Fix UI scalar plot not displayed if metric name includes a slash surrounded by spaces (` / `)\n",
      "- Fix Model API calls fail when its creating task has been deleted ([ClearML GitHub issue #1299](https://github.com/allegroai/clearml/issues/1299))\n",
      "- Fix UI experiment debug samples disappear while task is running ([ClearMLGitHub issue #1259](https://github.com/allegroai/clearml/issues/1259))\n",
      "- Fix UI pipeline DAG display to be \"bottom-up\" so all final steps appear in the bottom of the diagram ([ClearML Web GitHub PR #86](https://github.com/allegroai/clearml-web/pull/86))\n",
      "- Fix invalid mongodb connection string if `CLEARML_MONGODB_SERVICE_CONNECTION_STRING` is specified ([ClearML Server GitHub issue #252](https://github.com/allegroai/clearml-server/issues/252))\n",
      "- Fix auto-refresh modifies UI experiment debug sample view ([ClearML GitHub issue #1529](https://github.com/allegroai/clearml/issues/1529))\n",
      "- Fix UI image plot retrieval from fileserver missing authentication cookie ([ClearML GitHub issue #1331](https://github.com/allegroai/clearml/issues/1331))\n",
      "- Fix pipeline run version not set when re-executed via the UI\n",
      "- Fix metric and hyperparameter group string not searchable in UI table \n",
      "- Fix UI model hidden plot selection does not persist upon refresh\n",
      "- Fix deleting large number of experiments via UI not working properly\n",
      "- Fix experiment name legend not displayed in UI experiment plot comparison \n",
      "- Fix archiving pipeline run does not abort pipeline step tasks\n",
      "- Fix \"Restore\" and \"Delete\" buttons missing from UI experiment archive action bar\n",
      "- Fix UI experiment debug sample viewer sometimes displays incorrect sample\n",
      "- Fix UI Settings' Configuration section does not display indication that the number of credentials limit has been reached\n",
      "- Fix Hydra parameters not displaying correctly in UI experiment comparison parallel coordinates plot\n",
      "- Fix UI Reports image upload not working\n",
      "- Fix iteration number not displayed in titles of confusion matrix and table plots in UI experiment comparison\n",
      "- Fix \"Create new\" option not displaying when inputting project name in UI Report creation modal\n",
      "- Fix UI experiment requires Git information when repository isn't set\n",
      "- Fix moving an enqueued experiment to a new UI queue results in error \n",
      "- Fix modifying UI experiment input models does not work\n"
     ]
    },
    {
     "name": "stderr",
     "output_type": "stream",
     "text": [
      "INFO:__main__:Stored transcript in GridFS with file_id: 6753f4156bb21546b08ab1ae\n",
      "INFO:__main__:Metadata for https://www.youtube.com/watch?v=dQw4w9WgXcQ saved successfully.\n",
      "INFO:__main__:Scraping YouTube video: https://www.youtube.com/watch?v=3JZ_D3ELwOQ\n",
      "INFO:__main__:Stored transcript in GridFS with file_id: 6753f4166bb21546b08ab1b1\n",
      "INFO:__main__:Metadata for https://www.youtube.com/watch?v=3JZ_D3ELwOQ saved successfully.\n"
     ]
    },
    {
     "name": "stdout",
     "output_type": "stream",
     "text": [
      "https://www.youtube.com/watch?v=dQw4w9WgXcQ\n",
      "https://www.youtube.com/watch?v=3JZ_D3ELwOQ\n"
     ]
    },
    {
     "name": "stdout",
     "output_type": "stream",
     "text": [
      "2024-12-07 02:09:22,425 - clearml.Task - WARNING - Task 027068805eaf435c921665c875ecd97f was reset! if state is consistent we shall terminate.\n",
      "2024-12-07 02:09:24,443 - clearml.Task - WARNING - Task 027068805eaf435c921665c875ecd97f was reset! if state is consistent we shall terminate.\n",
      "2024-12-07 02:09:26,456 - clearml.Task - WARNING - Task 027068805eaf435c921665c875ecd97f was reset! if state is consistent we shall terminate.\n"
     ]
    }
   ],
   "source": [
    "import gridfs\n",
    "import logging\n",
    "from pymongo import MongoClient\n",
    "from youtube_transcript_api import YouTubeTranscriptApi, TranscriptsDisabled, NoTranscriptFound\n",
    "from clearml import Task\n",
    "\n",
    "# Configure logging\n",
    "logging.basicConfig(level=logging.INFO)\n",
    "logger = logging.getLogger(__name__)\n",
    "\n",
    "# MongoDB connection setup\n",
    "client = MongoClient(\"mongodb://localhost:27017/\")\n",
    "db = client['clearml']  # Use the ClearML database or create a new one\n",
    "fs = gridfs.GridFS(db)  # Set up GridFS to store large files\n",
    "\n",
    "# YouTubeCrawler class for scraping YouTube transcripts\n",
    "class YouTubeCrawler:\n",
    "    def __init__(self):\n",
    "        self.db = db\n",
    "        self.fs = fs\n",
    "        self.task = Task.init(project_name='ETL Pipeline', task_name='YouTube Data Ingestion', task_type=Task.TaskTypes.data_processing)\n",
    "\n",
    "    def extract(self, link: str) -> None:\n",
    "        # Check if data is already ingested to avoid duplicates\n",
    "        existing_doc = self.db[\"youtube_transcripts\"].find_one({\"link\": link})\n",
    "        if existing_doc:\n",
    "            logger.info(f\"Transcript already exists in the database for: {link}\")\n",
    "            return\n",
    "\n",
    "        logger.info(f\"Scraping YouTube video: {link}\")\n",
    "        try:\n",
    "            # Extract video ID from the link\n",
    "            video_id = link.split(\"v=\")[-1].split(\"&\")[0]\n",
    "\n",
    "            # Fetch transcript using YouTube Transcript API\n",
    "            try:\n",
    "                transcript = YouTubeTranscriptApi.get_transcript(video_id)\n",
    "                transcript_text = \" \".join([entry[\"text\"] for entry in transcript])\n",
    "            except (TranscriptsDisabled, NoTranscriptFound) as e:\n",
    "                transcript_text = f\"Transcript not available for this video. Error: {str(e)}\"\n",
    "            \n",
    "            # Save the transcript text into GridFS\n",
    "            file_id = fs.put(transcript_text.encode(\"utf-8\"), filename=\"youtube_transcript\", link=link)\n",
    "            logger.info(f\"Stored transcript in GridFS with file_id: {file_id}\")\n",
    "\n",
    "            # Store metadata of the transcript in MongoDB (e.g., link, file_id)\n",
    "            self.db[\"youtube_transcripts\"].insert_one({\n",
    "                \"link\": link,\n",
    "                \"file_id\": file_id,\n",
    "                \"platform\": \"youtube\",\n",
    "                \"metadata\": {\n",
    "                    \"video_id\": video_id,\n",
    "                    \"transcript_length\": len(transcript_text),\n",
    "                }\n",
    "            })\n",
    "            logger.info(f\"Metadata for {link} saved successfully.\")\n",
    "        except Exception as e:\n",
    "            logger.error(f\"Error during extraction: {e}\")\n",
    "    \n",
    "    def fetch_transcript(self, link: str):\n",
    "        # Retrieve transcript from GridFS using the video link\n",
    "        document = self.db[\"youtube_transcripts\"].find_one({\"link\": link})\n",
    "        if not document:\n",
    "            logger.info(f\"No transcript found for {link}\")\n",
    "            return None\n",
    "        file_id = document.get(\"file_id\")\n",
    "        transcript_file = fs.get(file_id)\n",
    "        return transcript_file.read().decode(\"utf-8\")  # Return transcript as a string\n",
    "\n",
    "    def print_all_urls(self):\n",
    "        # Print all URLs stored in the MongoDB database\n",
    "        urls = self.db[\"youtube_transcripts\"].find({}, {\"link\": 1})\n",
    "        for url in urls:\n",
    "            print(url[\"link\"])\n",
    "\n",
    "# Example usage\n",
    "if __name__ == \"__main__\":\n",
    "    youtube_crawler = YouTubeCrawler()\n",
    "\n",
    "    # Example list of YouTube video URLs to process\n",
    "    youtube_urls = [\n",
    "        \"https://www.youtube.com/watch?v=dQw4w9WgXcQ\",  # Example link 1\n",
    "        \"https://www.youtube.com/watch?v=3JZ_D3ELwOQ\",  # Example link 2\n",
    "    ]\n",
    "    \n",
    "    # Ingest YouTube data into MongoDB\n",
    "    for url in youtube_urls:\n",
    "        youtube_crawler.extract(url)\n",
    "\n",
    "    # Print all URLs ingested into the database\n",
    "    youtube_crawler.print_all_urls()\n"
   ]
  },
  {
   "cell_type": "markdown",
   "metadata": {},
   "source": []
  }
 ],
 "metadata": {
  "kernelspec": {
   "display_name": "Python 3",
   "language": "python",
   "name": "python3"
  },
  "language_info": {
   "codemirror_mode": {
    "name": "ipython",
    "version": 3
   },
   "file_extension": ".py",
   "mimetype": "text/x-python",
   "name": "python",
   "nbconvert_exporter": "python",
   "pygments_lexer": "ipython3",
   "version": "3.11.9"
  }
 },
 "nbformat": 4,
 "nbformat_minor": 2
}
