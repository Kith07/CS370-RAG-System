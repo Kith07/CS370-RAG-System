{
 "cells": [
  {
   "cell_type": "code",
   "execution_count": 12,
   "metadata": {},
   "outputs": [],
   "source": [
    "from pymongo import MongoClient\n",
    "from bson import ObjectId\n",
    "import json\n",
    "\n",
    "client = MongoClient(\"mongodb://localhost:27017/\")\n",
    "db = client['clearml']\n",
    "collection = db['crawled_data']"
   ]
  },
  {
   "cell_type": "code",
   "execution_count": 13,
   "metadata": {},
   "outputs": [],
   "source": [
    "class JSONEncoder(json.JSONEncoder):\n",
    "    def default(self, obj):\n",
    "        if isinstance(obj, ObjectId):\n",
    "            return str(obj)\n",
    "        return super(JSONEncoder, self).default(obj)"
   ]
  },
  {
   "cell_type": "code",
   "execution_count": 14,
   "metadata": {},
   "outputs": [],
   "source": [
    "documents = list(collection.find({}))\n",
    "with open('data.json', 'w') as f:\n",
    "    json.dump(documents, f, indent=4, cls=JSONEncoder)"
   ]
  },
  {
   "cell_type": "code",
   "execution_count": 15,
   "metadata": {},
   "outputs": [
    {
     "name": "stdout",
     "output_type": "stream",
     "text": [
      "Data transformed and saved to formatted_documents.json\n"
     ]
    }
   ],
   "source": [
    "import json\n",
    "\n",
    "raw_data = \"data.json\"\n",
    "with open(raw_data, 'r') as f:\n",
    "    raw_data = json.load(f)\n",
    "\n",
    "documents = []\n",
    "for entry in raw_data:\n",
    "    document = {\n",
    "        \"id\": entry[\"_id\"],\n",
    "        \"title\": entry[\"name\"].split(\" - YouTube\")[0],\n",
    "        \"content\": entry[\"content\"],\n",
    "        \"metadata\": {\n",
    "            \"platform\": entry[\"platform\"].capitalize(),\n",
    "            \"link\": entry[\"link\"]\n",
    "        }\n",
    "    }\n",
    "    documents.append(document)\n",
    "\n",
    "formatted_data = {\"documents\": documents}\n",
    "with open('formatted_documents.json', 'w') as f:\n",
    "    json.dump(formatted_data, f, indent=4)\n",
    "\n",
    "print(\"Data transformed and saved to formatted_documents.json\")"
   ]
  },
  {
   "cell_type": "code",
   "execution_count": 16,
   "metadata": {},
   "outputs": [],
   "source": [
    "import openai\n",
    "import os\n",
    "from dotenv import load_dotenv\n",
    "\n",
    "load_dotenv()\n",
    "\n",
    "openai.api_key = os.getenv('OPEN_AI_API_KEY')\n",
    "\n",
    "def generate_embeddings(text):\n",
    "    response = openai.Embedding.create(\n",
    "        input=text,\n",
    "        model=\"text-embedding-ada-002\"\n",
    "    )\n",
    "    return response['data'][0]['embedding']\n",
    "\n",
    "for doc in documents:\n",
    "    doc['embedding'] = generate_embeddings(doc['content'])\n"
   ]
  },
  {
   "cell_type": "code",
   "execution_count": 17,
   "metadata": {},
   "outputs": [],
   "source": [
    "def sanitize_text(text):\n",
    "    return text.encode('utf-8', 'replace').decode('utf-8')\n",
    "\n",
    "for doc in documents:\n",
    "    doc[\"content\"] = sanitize_text(doc[\"content\"])"
   ]
  },
  {
   "cell_type": "code",
   "execution_count": 18,
   "metadata": {},
   "outputs": [],
   "source": [
    "for idx, doc in enumerate(documents, start=1):\n",
    "    doc[\"id\"] = idx"
   ]
  },
  {
   "cell_type": "code",
   "execution_count": 19,
   "metadata": {},
   "outputs": [
    {
     "name": "stdout",
     "output_type": "stream",
     "text": [
      "Data uploaded successfully!\n"
     ]
    },
    {
     "name": "stderr",
     "output_type": "stream",
     "text": [
      "/tmp/ipykernel_38982/3179163006.py:6: DeprecationWarning: `recreate_collection` method is deprecated and will be removed in the future. Use `collection_exists` to check collection existence and `create_collection` instead.\n",
      "  client.recreate_collection(\n"
     ]
    }
   ],
   "source": [
    "from qdrant_client import QdrantClient\n",
    "from qdrant_client.models import PointStruct\n",
    "\n",
    "client = QdrantClient(host=\"localhost\", port=6333)\n",
    "\n",
    "client.recreate_collection(\n",
    "    collection_name=\"robotics-documents\",\n",
    "    vectors_config={\"size\": 1536, \"distance\": \"Cosine\"} \n",
    ")\n",
    "\n",
    "points = [\n",
    "    PointStruct(\n",
    "        id=doc[\"id\"],\n",
    "        vector=doc[\"embedding\"],\n",
    "        payload={\n",
    "            \"title\": doc[\"title\"],\n",
    "            \"content\": doc[\"content\"],\n",
    "            \"platform\": doc[\"metadata\"][\"platform\"],\n",
    "            \"link\": doc[\"metadata\"][\"link\"],\n",
    "        }\n",
    "    )\n",
    "    for doc in documents\n",
    "]\n",
    "\n",
    "client.upsert(collection_name=\"robotics-documents\", points=points)\n",
    "print(\"Data uploaded successfully!\")"
   ]
  },
  {
   "cell_type": "code",
   "execution_count": 22,
   "metadata": {},
   "outputs": [
    {
     "name": "stdout",
     "output_type": "stream",
     "text": [
      "Title: ROS/ROS 2 - What are messages, services and actions?\n",
      "Content: so in this video we'll talk about three different ways of communicating between different sub modules or packages in ros one message two service and three actions hello guys so this is our second video in our series which is all about ross and robotics in the previous video we talked about what ross exactly is in a very intuitive way and in this video although i said we will talk about ros 2 but before that there is something we need to focus on we need to understand what different communication methodologies are present in ros to connect different modules in a distributed system when we build our robot using ros so in this video we'll talk about three different ways of communicating between different sub modules or packages in ros one message two service and three actions i love understanding everything using examples so let's take an example like the last video in the last video we were talking about a naive example which was a trash picking robot and the software designed for it this was exactly the software design we were talking about as an example the trash picking robot is responsible for looking at trash in its surroundings and if it finds something it will pick up trash put it in the bin and then this process continues so this robot will keep looking at trash in its surroundings and then picking all of it up and this is an example software design for it if you have watched the previous video you would know what exactly i'm talking about if not you don't really need to go to the previous video because our topic right now is about understanding different communication methodologies and not really raw software design per se so this trash picking robot has three software modules or packages as we call it ros one perception this module is responsible for finding trash in the surroundings if there is trash present then this module will inform brain through one communication channel which is called visual info right now in when gets any information from perception using this channel visual info it will process this information and if it decides that the robot needs to move it will inform the actuation package this is done using another communication channel called commands in this example in addition there would be times where brain would need to understand if all the battery levels are fine in different actuators here in the example you can see that there is something called motor states this is another communication channel for brain to get information about the battery status of motors so we have three different communication channels in this example visual info commands and motor states now let's tie this to three different communication methodologies we were talking about before again they were messages services and actions let's start with messages a message is implemented using something called a topic a topic literally means a topic which is of interest to both a party or a package which wants to talk about it and a package which wants to listen to this topic so in this case if perception only wants to talk about one topic which is visual info it will only do that so it will constantly publish on the topic called visual info and brain would subscribe to that topic so the words topic publishers and subscribers literally map to what we understand as humans a topic is literally a topic of interest a publisher is a package which talks about this topic and a subscriber is the one who wants to know what's happening in this topic so it will subscribe to this topic this is completely asynchronous that means that the publisher doesn't need to publish at a set frequency again and again as and when it has information it can publish to this topic and whenever a publisher publishes to this topic the subscriber is connected to this topic so it will get the same information as published by the publisher all the time so this is the first communication methodology now second let's talk about motor states in this example we can do the same thing with motor states right actuation package can publish its motor's battery status from time to time and brain can subscribe to this topic and get information but there can be a slight change to this as well let's imagine that brain wants to get battery status of two different or three different physical modules in actuation in that case what will happen is brain instead of subscribing to this topic called motor states can actually use something called a service in this case what brain will do is whenever brain wants to know the battery status of any components in actuation it will ask actuation and say that i want to know the battery status of your motor or of any other part of the physical system an actuation will get this question through the service then depending on what brain is asking actuation will send the battery status of whichever part was requested for by brain so this is something called a service in a publisher subscriber method which is used for topics the publisher is sending information at whatever rate or even asynchronously whenever it wants to but in case of a service the service client which is brain in this case when it's asking for information can ask whenever it wants to so there is no set rate it's also asynchronous but now instead of a package sending information the package which wants to receive information is initiating this transfer so in this case brain would request actuation for information and then actuation will respond back so it is literally a service you're asking for so brain is asking for a service here and actuation will have something called a server so it is like a service server itself and then this server in actuation will respond and complete this task bear in mind that services are mostly used when you need to ask for information from one package and you actually send something when you're asking for it for instance in this case brain is saying send me the battery status of your motors so the word motor is pretty important here if you see for examples on the internet about services what you will see is addition of two numbers so in that case a service client sends two numbers and the server is asked to add these two numbers and send back the result so what you're sending is also important in case of a publisher subscriber method the publisher is just sending information the subscriber is not sending any arguments based on which the publisher will send different information so this was all about services let's talk about the third one which is actions again as an example we have something called commands here let's say brain decided that actuation should move the robot so brain would say move the robot to xyz position or if it's a 2d plane xy position now what happens in action is brain will first say that hey actuation you need to move the robot to x y and z position and after that actuation will throughout this process also send feedback which is something like the robot is at this position right now after some time it moved to this position so instead of just saying that i have completed my task and the robot is in the final position it will give intermediate feedback so brain always knows that hey i asked the robot to move to some xyz position which is the end point but i also know where it is right now so it is in the process and also there's one more difference in actions you can actually cancel the action let's say you ask the robot to move to x y and z position but because of some logic or because of some reason you want to stop the robot midway so you can actually cancel this action so actuation will stop moving the robot in that case also a side note in case of services once the action client requests for something then it cannot cancel this so if you say hey send me the battery status of your motors from brain it cannot cancel it it will keep waiting for the results there's also a subtle difference between ross1 and ros2 here to be honest in ros1 when you ask for a service from a service client the call is blocking rost2 that is not the case but it's still too early to talk about ros1 and ros2 right now so these were the three different methods of communication between different packages and based on what you want and what your requirement is while building a system you use one of these three methodologies i hope the idea is a lot more clear to you if not you can always comment here and we can talk about it more i can make more videos and we can always engage in any discussion you want i will now see you in the next video where we will finally talk about the differences between ros1 and ros2 and after that we are going to start building something using ros2 so see you guys in the next video\n",
      "Platform: Youtube\n",
      "Link: https://www.youtube.com/watch?v=WzOopOkrowA&list=PLgG0XDQqJckkSJDPhXsFU_RIqEh08nG0V&index=2\n",
      "\n",
      "Title: Hands-On ROS2 - Part 1 (Publisher/Subscriber)\n",
      "Content: hello and welcome back so we've spent significant time understanding what Ross or Robot Operating System is we've also spent time understanding what messages services and actions are in Ross after that we spend time understanding the differences between Ross and ros2 from now on we will spend a lot more time building stuff because that's where we learn the most so in this video we'll start building Publishers and subscribers in Ross too because we are focusing on Ross 2 from now on and then we'll have services and then we'll also start playing with navigation in ros2 and of course as and when we learn more and we try most of we will put all of that out for everyone to learn this is going to be a pretty exciting Journey it's going to be a long journey but it'll be worth it and we'll make it fun okay so as I said earlier in this video we will create a publisher and a subscriber in ros2 like the official example we will use a listener talker example that's it where a talker node will publish a string on a topic and The Listener node which is a subscriber will subscribe to the same topic so that whenever the talker node which is a publisher publishes any string our listener node will get that string that's all and the docker node will publish string at a set frequency so periodically and here is what the system design will look like in this design the publisher will have one publisher and also one timer callback that timer callback is not actually a Ross interface of sorts it's just for us to trigger this publishing periodically you'll understand when we are actually implementing this looking at the listener node all it has is one subscriber that's it so there are two loss interfaces one publisher for the talker node and one subscriber for The Listener node we have one timer in our talker notes so that we can publish data on this common topic periodically let's start building this we'll make this Raw package from scratch which will have one publisher called Docker and one subscriber called listener this will also help us in understanding how to create a package in ros2 let us begin before we start doing this you should have ros2 installed on your system I've added the link in the description of this video where you have all the instructions to actually install ros2 on your system I'm using Ubuntu 20.04 and the version of Los 2 is galactic for me you can choose the appropriate version for your project the first thing we need for any Ros package is a Ros workspace let's create a new workspace let's call it Ross to workspace and we need your SRC folder which will hold all our packages let's go to our Ros workspace here let's use callcon to see how qualcon actually builds packages so there is actually no package currently right that's why it says zero package is finished when we'll have our package with one publisher one subscriber it will save one package finished now let's create our package which will have one publisher called talker and one subscriber called listener to create a new package we have to go to SRC directory inside SRC this is the command to make a new python package and we will be coding in Python right now I'm calling this package Docker underscore listener now I wanted to show this error because every time you use a terminal for loss 2 you will have to Source your roster which means in my case I have Galactic and to Source Galactic after all the installation is done you need to do this I have an alias called s Galactic which is something I will use but otherwise you need to use this command which is Source optos Galactic setup dot bash and you see that Ross distro was set to noetic before is shown that is because I also have no attack on my system and that is set to the default one in my bash RC script but forget about that if you have ros2 and whatever version you have let's say you have Galactic 2 then this is the command you need to run on every terminal where you're using ros2 okay so now let's build the package again now it should work so you hopefully have your new package now let's see yes let's look at this talker listener so we have our new package now this means that we can start creating our nodes the first one will be a toggle node which will be a publisher so let's start creating our talker node to create the node we need to go inside the package which is Docker underscore listener and inside that you will have a directory of the same name in case of python so you'll have Docker underscore listener again so we'll go to talk on the school listener right so this is an empty directory with only an init file here now this is where we create a new node let's go to vs code this is your directory which is stock underscore listener inside the package toggle underscore listener and let's create a new file called talker node okay so we have our new file the first thing we need to do is import RCL Pi which is the python version of lost client library and that library is needed to do everything for loss 2. now secondly we need to import the class node from RCL Pi dot node because any node you create in ros2 as a class will need to inherit from the class node which exists in RCL Pi liability the last thing we need to do is import string because when we'll create the publisher we need to give the data type it uses or the message type it uses so it draws and draws to string which is a message type is a part of STD messages here we have all our inputs needed now let's also have Main if name equals Main we will call a function called Main and let's also Define Main no args so we can say RX equals none and RCL Pi Dot in it let's zoom in a little bit and also fix this okay let's also set this properly we need to have RCL Pi dot in it because that is something which is needed before you create any node this is something which sets up your context which is something responsible for creating and destroying your nodes so every time you want to create a node the first thing you need to do is initialize the context using rclpi dot init the next thing we need to do is create a node which doesn't exist right now even in code so let's have a placeholder create note the next thing should be use node and when we want to end everything we say destroy node okay now let's create a node first and then we'll start using it to create a node as a class we create a new class which inherits from node so class Docker node inherits from node let's make a Constructor here in this Constructor we need to First initialize the base class right we need to give a name here which will be used for registering the node so let's call this tokenode now as we discussed this node has one publisher and one timer the interface publisher can be made in this way here since we inherited from node we already have this API called create publisher this API will create a publisher for the message type string the topic name will be the string Topic in this case and the last argument is the queue size of this publisher Now to create a timer which will enable publishing at a set frequency let's also have some time period let's say it's called time or period 0.5 seconds and then let's create a new timer to create a new timer we again have a method inherited from node which is uh create underscore timer that needs a time period which is 0.5 seconds and then we'll have a new method called timer callback in this class itself which will be called every 0.5 seconds so let's create our timer callback this is our timer callback right now it has no functionality but what we need to do is make a message and publish it using our publisher called self dot publisher underscore to create a message this is what we do for a string message this is how the structure of this message is set let's print hello followed by account so each time the publisher publishes a message it will increase its count let's have hello everyone followed by the count so that means we also need to have a member which is self dot count let's say zero and every time we publish we increment the count by one now let's also log all of this so you have a method called get logger dot info and here we can also say publishing something so this will be printed on the terminal sh dot data because this is what we are publishing okay so at this point we have our talker nodes set up so we'll have to create an instance of this node otherwise this won't work talking on equals Docker node this needs no arguments now this is how you create your node to use your node we will use something called spin in RCL file and we spin our Docker node so RCL Pi dot spin allows the Ros node to keep running and checks for events on subscribe topics service callbacks and direct callbacks it's spinning this until we are actually killing the node and here the timer callback is called again and again and again based on the timer so the timer is responsible for calling this time a callback every 0.5 seconds if we don't use spin then we won't be able to use the docker node for Ross at all because timer won't be able to function once we spin the node everything is fine here but to destroy the node later towards the end of the program we need to do the following this is how you destroy the node and once the node is destroyed you need to shut everything down so shut the context down at this point our code is complete we actually have all the code needed for our talker node which is the publisher node but how do we make this visible to raws so that when we build the entire project it is visible and we can use it to do that we have to go back to our package and make changes to package.xml and setup.pi files so this is what your package currently looks like here let's actually use Visual Studio code to have access to everything and here let's make changes to package.xml we used RCL pi and STD messages and they need to be added as exact dependencies so this means for execution we depend on RCL pi and STD messages now we also need to make changes to setup.pi in setup.pi on line 21 we see something called entry points this needs to change so that we have our main as the entry point so when the project is built and run we know that main is where the execution starts for this particular node and this is how you do it you have something called a Docker node which comes from the package talk underscore listener and the file Docker node main this is how you set up your publisher node now you need to check if your setup.config file looks like this it ideally should but if it doesn't this is how it should look now at this point you have one node which is the talker node or the publisher for your package ready let's try running this and see if everything is fine here to do that we have to go back to our workspace and from your workspace to install all the dependencies needed for all the packages this is what you need to run I have Galactic so I have Ross distrogalactic but you can choose the correct one for yourself here let's see all required rosdep installed successfully now we made a small mistake right remember I told you to Source galactic I have an alias now let's do this again it's all required raw step installed successfully everything is fine now we can do call count build so the package has built now what we need to do is to run any specific node we first need to Source this package install setup dot bash this is how you Source your package and now to run this node this is what we need to do Ros to run package name which is Docker underscore listener and then the name of the node which was talk or not okay so it says publishing hello everyone one two three four five six and so on and so forth we can also check if this node is actually publishing properly so to do that open a new terminal Source galactic and now we can list all the nodes running loss to node list we have a talker node up we can list all the topics currently news 2 topic list so we see topic right so we can ignore the other two for now this topic means that the topic which is actually called topic is used somewhere we can actually see the content floating around on this topic for that loss to Echo topic okay okay it's lost to topic Echo so it looks like nothing is being published why is that the case that is because we are actually not publishing anything so to publish something we also need to have publisher right so here all we need to do is add self Dot publisher publish message that is it now let's build the package again and then run everything should be fine there to build the package you end this and then do call Con build and then run this package again wait we have to Source it first now let's see yeah if you see lost topic Echo for this topic called topic we are getting data so the data says hello everyone followed by a number so this publisher is running properly now we have our talker node or the publisher ready let's now focus on the other node which is a listener node or the subscriber node to make a new note for subscriber in the same place where you had your tokenode.pi we'll have a new node which is listener node.pi listener node.pi we'll import the same things because we have the same reasons RCL Pi because you have to use RCL Pi Library node because when we create a new class for our listener node we will have to inherit from node and string from STD messages Dot message because this one subscribes to a topic which uses this message type string so we'll have to use this message type now let's again have our main we call Main let's define mean the first thing we need to do is our CL pi dot init after that we create node we use node and then we destroy node so let's now move to creating the node so for that we need a class let's call it listener node inherits from the class node here let's have a Constructor we need to call the Constructor for the base class let's call this Docker node now as we discussed before this one has just one interface which is a subscriber so this is how you create a subscriber in Los 2. so if you see this the class node which we inherited from has a method called create subscription this is responsible to create a subscription now here the first argument is string which is the message type the second argument is the topic name which is topic and that is the same as our talker node the third one is a listener call back now this callback will be a method which will be called every time someone publishes to this topic and the last argument is the queue size let's format this a little okay now here let's make a new method listen a callback because that is the name of the method we use this has one argument apart from self which is message because whenever someone publishes to this topic we'll get all the published information in the variable message or the argument message in this case we'll just do nothing and print this or print the message for that let's just use self get logo info received whatever data right so received message dot data because data actually has that information now we need to create the node so we have our listener node created how do we use it we use the same idea where we will just spin this node we need to spin because that will make sure that the node is alive and every time a callback needs to be called uh this pin will direct the Callback to the right place so we will always come here whenever someone publishes on the topic called Topic in our case now this is fine but we also need to destroy the node right so we use the same idea to destroy the node we do listener node Dot destroy node and then we shut down the context okay so everything looks fine here I think we are ready with our second node which is the listener node which only subscribes to the topic called topic to enable the usage of this node we need to make changes to our setup.pi file again here we have only one entry point which is for Docker node we also now have a listener now so we add one more node by the way this decides the name of the note so this is our listener node and we have our listener underscore node file and that is where we have our main so this node uses that code which is the code we made right now now since this package used RCL pi and STD messages those were already included in package.xml so we don't need to make any changes here now we are done with creating both our nodes we need to build this package now which has two nodes instead of one to build the package we go to the terminal this terminal is already sourced now we do call Con build in our Ros workspace so the package is finished now we need to Source this okay let's have two terminals one terminal to run our Docker node and the other terminal to run our listener node okay so we have two terminals the left one is for running our Docker node and the right one will be for running our listener node let's run the docker node first Ros to run talk underscore listener Docker node entry point Docker node not found we also need to have commas between them so that this works okay now we are ready to build this package and then run this package with two different nodes to build this package we need to go to ros2 workspace I'm using a fresh terminal just to display this Source Galactic and then I will do qualcon build so the package with two nodes is built now we will run the talker node in one terminal and The Listener node in another terminal so let's have two terminals okay we have two terminals the left one will have the docker node running and the right one will have the listener node running let's run the toggle node first but we need to Source the package setup dot Bash and then let's run so we have our Docker node here so looks like Docker node is publishing but let's see if the subscriber is getting this information to do that first let's Source Galactic in this terminal and now let's Source the package source install setup Dot bash now let's run the other node which is our listener node raws to run our package name is talk underscore listener and then we have listener node see so it is getting information this started at 86 because we ran the listener node much later right now what we are seeing is almost at the same time one is publishing and the other one is receiving and that's what we want so this was a demonstration to create a publisher and a subscriber in one package itself we started with creating a package and then we made our first node which was the talker node which would publish data which is publishing hello everyone followed by a number and then we made a listener node which only had a subscriber this would receive information as and when the publisher would publish information on the same topic so this is how you create a python package in ross2 for a listener and a subscriber in the next video we'll make a service and a service line in Python to see how Services can be used in ros2 I hope this video benefited you and will of course get more complicated with time we started with simple stuff and we'll build on everything to actually move towards complicated usage of ros2 packages making navigation packages and all of that so stay tuned and I'll see you in the next video bye\n",
      "Platform: Youtube\n",
      "Link: https://www.youtube.com/watch?v=8407qTyBRe0&list=PLgG0XDQqJckkSJDPhXsFU_RIqEh08nG0V&index=4\n",
      "\n",
      "Title: ROS/ROS 2 - What is Robot Operating System (ROS)? - an intuitive understanding\n",
      "Content: to begin with let's look at what a robot system software will look like when we build one we will start with this and then gradually bring in ross so that the idea of ross in an intuitive way is super clear for us hello guys so this video is the first one in this series which is all about ross and robotics we will start with the idea of ross and then gradually start working with robot operating system which is ross for uh robot applications we'll specifically use ros1 and ros2 and i think we're going to focus more on ros 2 as the series progresses this video is all about understanding what ross is in a very intuitive way so what does raw stand for raw stands for robot operating system we all know that of course it is the most popular middleware used for building robot systems right now and it enables the following when we are building a robot system one message passing between different modules in a distributed system two package management and three hardware abstraction well this isn't the most intuitive way to understand ross right so let's forget about ross for a bit and start from the problem statement which led to the creation of ross and how we use it now to begin with let's look at what a robot system software will look like when we build one we will start with this and then gradually bring in ross so that the idea of ross in an intuitive way is super clear for us as an example let's say we want to build a humanoid trash picking robot called billy billy keeps looking at its surroundings to find rash when it finds trash it moves to the location picks up trash and throws it in the bin and the process continues this is a rather contrived example i know but it will serve the purpose and help us understand the idea of ros later on in a naive way we can divide billy's software stack in three broad categories one perception where we actually look at the surroundings two actuation this module is responsible for ability to move three brain this is the central uh module where all the decisions are actually made and this module will decide what billy should do at any point in time next let's imagine that to build this system we divide this system into three broad categories as i mentioned before perception actuation and brain and this would also reflect in our software stack remember that this is a gross over simplification to drive the message home but please bear with me for a bit so we have three scripts perception actuation and brain for the sake of this argument let's say we are building in python so we would have perception.pi actuation.pi and brain.pipe how will the flow of this information be first perception will keep looking at its surroundings to understand if there is trash somewhere if there is trash it will inform brain about the presence of trash and then brain will decide how the robot or billy should move to that exact location once brain has computed the path it will ask actuation to move the robot and this process repeats again and again as and when perception looks at trash now we started off with the idea that we have three modules and then we started talking about how these three modules will communicate the flow of information right so if you want to establish communication between these modules how would we go about it one idea would be polling in polling perception will keep looking for trash and when it finds any trash it will write to a shared memory location about the presence of crash and the location of trash brain will keep pulling the shared memory location to find the presence of data once it finds something that means that there is trash then brain will process this information and write to another shared location this shared location is constantly pulled by actuation so that it understands when brain has written something in that shared location if there is something in that location it basically means that the actuation has been given a command from brain and then actuation will move according to what brain told actuation this is very similar to the shared location between perception and plane right brain was constantly pulling the shared location where perception wrote information but in the other case actuation is constantly looking at the shared location now polling is not the most efficient way in a hardware software co-design system so there is another idea which is called interrupts if you worked as an embedded or a software engineer you would know that interrupts is something which is event driven now if we move away from polling to an event based system what we can do is perception will look for trash as it was doing before and then it will write somewhere that it found rash when it does of course now brain instead of pulling the space will get it interrupt when perception writes something there and then brain will process this information and write somewhere about what actuation should do now actuation will also get an interrupt we now moved away from a polling based system to an event based system this is much more efficient this is of course a very simplistic example to drive the message home but establishing this event-based communication channel is exactly what ros does instead of us taking care of all the communication in this distributed system with these three subsystems ross says don't worry about communication between these modules i will take care of it i will provide you apis where you can tell me what kind of communication you need to have between these modules and i will give you apis to also set up these connections all you need to do is build your individual modules properly and tell me how these connections should look like so we don't need to implement these communication channels anymore because ross is responsible for it now by the way this is the core definition of a middleware a middleware is responsible for message passing as we said before and handling communication between different sub modules in a distributed system so without getting into all the jargons initially we've established that ross is responsible for handling this inter-process or inter-module or inter-package communication in this distributed system which exactly is something a middleware does hence ross is a middleware right that's now easy for us to understand so the first idea of message passing is what we were talking about till let's move on to the second one and for that let's go back to our system design again since ross is handling these communication channels we can develop these individual modules or packages which is a terminology in ross we can focus on developing these individual packages ross has tools to support creation and maintenance of these packages in ros one it's called catkin and in los 2 it's called call gone these are standard package management tools which are incorporated in draws for package management so now in ross you can make these individual packages using these tools and then you can manage these packages add whatever you want and work on them in isolation so when you're working on let's say actuation package you don't need to really work on brain and perception if you're actually working on brain and perception when you need to change something major in actuation that means the design is not modular enough so there has to be some design improvements so the second idea of package management is what we were talking about now let's move on to the third one let's say you're building one package and then that package actually needs you to have a lot of embedded drivers and code to talk to your hardware you can actually build this core embedded functionality dedicated to a specific hardware and then wrap it with all ros apis you have so in the end you can have your core loss functionalities which is not really about ross but it is about the hardware and then use ros apis to make a package out of it now this package can be used by yourself or anyone else when they are using this specific hardware so that means you abstracted your hardware functionalities out outright if you made something for the specific hardware device and i want to use it i can use your package i don't need to build any driver code for this hardware device i can actually use your package and all of that hardware functionality in code is abstracted out so that makes it easier for me to use your ros package if it's about a specific hardware so these were the three core ideas we covered to understand what ross is also because ross is so popular now there are so many open source packages where people have built packages for very specific functionalities and everyone can use them so that means that because of how big the community is you can get packages for important functionalities and then just use them as plug and play modules you don't really need to develop these modules on your own for instance if you want to work on robot localization for mobile robots there is a package called robot localization if you want to work on navigation there is a package called navigation or navigation too so there are many many packages for this but bear in mind that if you are building a project or a product you have to make a lot of custom packages for this but that is something we will deal with later it's too early to talk about those things i hope the idea of ross is much more clear with this video now when i started working with ross initially just for my own interest it took me a while to understand the core idea of loss it just looked like a giant software stack which does something and then it's important it draws but honestly ross is not really about robotics i consider it to be a middleware or a software stack which is really good for hardware software co-design in fact i would have named it hardware software core design operating system but like the name is atrocious so of course i would never want to do that also it is not an operating system it just mimics some of the functionalities of an operating system and that's why i think it's named robot operating system but it is a middleware which is something we discussed before so i hope the idea is clear for you next up we will talk about rost2 and how roster is different from ros 1 and then we will also start building in simulation using ros 2. so i hope you like this video and i'll see you in the next one\n",
      "Platform: Youtube\n",
      "Link: https://www.youtube.com/watch?v=rtrGoGsMVlI&list=PLgG0XDQqJckkSJDPhXsFU_RIqEh08nG0V&index=1\n",
      "\n"
     ]
    }
   ],
   "source": [
    "query = \"What are the three different communication channels?\"\n",
    "query_embedding = generate_embeddings(query)\n",
    "\n",
    "results = client.search(\n",
    "    collection_name=\"robotics-documents\",\n",
    "    query_vector=query_embedding,\n",
    "    limit=3\n",
    ")\n",
    "\n",
    "for match in results:\n",
    "    print(f\"Title: {match.payload['title']}\")\n",
    "    print(f\"Content: {match.payload['content']}\")\n",
    "    print(f\"Platform: {match.payload['platform']}\")\n",
    "    print(f\"Link: {match.payload['link']}\\n\")"
   ]
  },
  {
   "cell_type": "code",
   "execution_count": 23,
   "metadata": {},
   "outputs": [
    {
     "name": "stdout",
     "output_type": "stream",
     "text": [
      "The three different communication channels mentioned in the context are:\n",
      "1. Visual info: Used by the perception module to inform the brain about the presence of trash in the surroundings.\n",
      "2. Commands: Used by the brain to inform the actuation package about the actions the robot needs to take.\n",
      "3. Motor states: Used by the brain to get information about the battery status of motors in the actuation package.\n"
     ]
    }
   ],
   "source": [
    "context = \"\\n\\n\".join([f\"Title: {match.payload['title']}\\n{match.payload['content']}\" for match in results])\n",
    "\n",
    "response = openai.ChatCompletion.create(\n",
    "    model=\"gpt-3.5-turbo\",  # Use \"gpt-4\" if you want a more advanced model\n",
    "    messages=[\n",
    "        {\"role\": \"system\", \"content\": \"You are a helpful assistant for answering questions based on provided context.\"},\n",
    "        {\"role\": \"user\", \"content\": f\"Context:\\n{context}\\n\\nQuestion: {query}\\nAnswer:\"}\n",
    "    ],\n",
    "    max_tokens=200,\n",
    "    temperature=0  # Adjust temperature for deterministic responses\n",
    ")\n",
    "\n",
    "print(response['choices'][0]['message']['content'].strip())\n"
   ]
  }
 ],
 "metadata": {
  "kernelspec": {
   "display_name": "Python 3",
   "language": "python",
   "name": "python3"
  },
  "language_info": {
   "codemirror_mode": {
    "name": "ipython",
    "version": 3
   },
   "file_extension": ".py",
   "mimetype": "text/x-python",
   "name": "python",
   "nbconvert_exporter": "python",
   "pygments_lexer": "ipython3",
   "version": "3.12.3"
  }
 },
 "nbformat": 4,
 "nbformat_minor": 2
}
