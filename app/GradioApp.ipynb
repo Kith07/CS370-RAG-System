{
 "cells": [
  {
   "cell_type": "code",
   "execution_count": 5,
   "metadata": {},
   "outputs": [],
   "source": [
    "from pymongo import MongoClient\n",
    "from bson import ObjectId\n",
    "import json\n",
    "import openai\n",
    "import os\n",
    "from dotenv import load_dotenv\n",
    "import gradio as gr\n",
    "from qdrant_client import QdrantClient\n"
   ]
  },
  {
   "cell_type": "code",
   "execution_count": 9,
   "metadata": {},
   "outputs": [],
   "source": [
    "\n",
    "mongoDBClient = MongoClient(\"mongodb://localhost:27017/\")\n",
    "db = mongoDBClient['clearml']\n",
    "collection = db['crawled_data']\n",
    "client = QdrantClient(host=\"localhost\", port=6333)\n"
   ]
  },
  {
   "cell_type": "code",
   "execution_count": 10,
   "metadata": {},
   "outputs": [],
   "source": [
    "\n",
    "load_dotenv()\n",
    "\n",
    "openai.api_key = os.getenv('OPEN_AI_API_KEY')\n",
    "\n",
    "def generate_embeddings(text):\n",
    "    print(text)\n",
    "    response = openai.embeddings.create(\n",
    "        input=text,\n",
    "        model=\"text-embedding-ada-002\"\n",
    "    )\n",
    "    return response.data[0].embedding\n"
   ]
  },
  {
   "cell_type": "code",
   "execution_count": 11,
   "metadata": {},
   "outputs": [],
   "source": [
    "def RAG_Context (query):\n",
    "    query_embedding = generate_embeddings(query)\n",
    "    results = client.search(\n",
    "    collection_name=\"robotics-documents\",\n",
    "    query_vector=query_embedding,\n",
    "    limit=3\n",
    "    )\n",
    "    context = \"\\n\\n\".join([f\"Title: {match.payload['title']}\\n{match.payload['content']}\" for match in results])\n",
    "    return context\n",
    "    "
   ]
  },
  {
   "cell_type": "code",
   "execution_count": 14,
   "metadata": {},
   "outputs": [
    {
     "name": "stdout",
     "output_type": "stream",
     "text": [
      "* Running on local URL:  http://127.0.0.1:7880\n",
      "\n",
      "To create a public link, set `share=True` in `launch()`.\n"
     ]
    },
    {
     "data": {
      "text/html": [
       "<div><iframe src=\"http://127.0.0.1:7880/\" width=\"100%\" height=\"500\" allow=\"autoplay; camera; microphone; clipboard-read; clipboard-write;\" frameborder=\"0\" allowfullscreen></iframe></div>"
      ],
      "text/plain": [
       "<IPython.core.display.HTML object>"
      ]
     },
     "metadata": {},
     "output_type": "display_data"
    },
    {
     "data": {
      "text/plain": []
     },
     "execution_count": 14,
     "metadata": {},
     "output_type": "execute_result"
    },
    {
     "name": "stdout",
     "output_type": "stream",
     "text": [
      "What is ROS2\n"
     ]
    }
   ],
   "source": [
    "import gradio as gr\n",
    "\n",
    "# Prefilled suggestions for the dropdown\n",
    "suggestions = [\n",
    "    \"Tell me how can I navigate to a specific pose - include replanning aspects in your answer.\",\n",
    "    \"What is ROS2\",\n",
    "    \"What are the three different communication channels?\", \n",
    "    \"Tell me how can I navigate to a specific pose - include replanning aspects in your answer. Can you provide me with code for this task?\"\n",
    "]\n",
    "\n",
    "# Function to handle the query\n",
    "\n",
    "from langchain_community.llms import Ollama\n",
    "import gradio as gr\n",
    "\n",
    "# Initialize the Ollama model\n",
    "llm = Ollama(model=\"https://huggingface.co/CojoFitz/model\")\n",
    "\n",
    "# Define a function to process input with the model\n",
    "def query_model(input_text):\n",
    "    try:\n",
    "        response = llm.invoke(RAG_Context(input_text) + input_text)\n",
    "        return response\n",
    "    except Exception as e:\n",
    "        return f\"Error: {str(e)}\"\n",
    "# Function to handle dropdown selection and refill the text box\n",
    "def update_text(selected):\n",
    "    return selected  # The selected suggestion replaces the text box content\n",
    "\n",
    "# Gradio interface setup\n",
    "with gr.Blocks() as demo:\n",
    "    with gr.Row():\n",
    "        dropdown = gr.Dropdown(\n",
    "            choices=suggestions, \n",
    "            label=\"Suggestions\", \n",
    "            interactive=True\n",
    "        )\n",
    "        textbox = gr.Textbox(\n",
    "            placeholder=\"Type your query here...\",\n",
    "            label=\"Your Query\",\n",
    "            lines=2\n",
    "        )\n",
    "    # Update textbox when dropdown changes\n",
    "    dropdown.change(update_text, inputs=[dropdown], outputs=[textbox])\n",
    "    submit_button = gr.Button(\"Submit\")\n",
    "    response_box = gr.Textbox(label=\"Response\")\n",
    "\n",
    "    # Handle submission\n",
    "    submit_button.click(query_model, inputs=[textbox], outputs=[response_box])\n",
    "\n",
    "demo.launch()\n"
   ]
  }
 ],
 "metadata": {
  "kernelspec": {
   "display_name": ".venv",
   "language": "python",
   "name": "python3"
  },
  "language_info": {
   "codemirror_mode": {
    "name": "ipython",
    "version": 3
   },
   "file_extension": ".py",
   "mimetype": "text/x-python",
   "name": "python",
   "nbconvert_exporter": "python",
   "pygments_lexer": "ipython3",
   "version": "3.12.8"
  }
 },
 "nbformat": 4,
 "nbformat_minor": 2
}
