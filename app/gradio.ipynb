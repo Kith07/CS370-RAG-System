{
 "cells": [
  {
   "cell_type": "code",
   "execution_count": 24,
   "metadata": {},
   "outputs": [],
   "source": [
    "from pymongo import MongoClient\n",
    "from bson import ObjectId\n",
    "import json\n",
    "import openai\n",
    "import os\n",
    "from dotenv import load_dotenv\n",
    "import gradio as gr\n",
    "from qdrant_client import QdrantClient\n"
   ]
  },
  {
   "cell_type": "code",
   "execution_count": 25,
   "metadata": {},
   "outputs": [],
   "source": [
    "\n",
    "mongoDBClient = MongoClient(\"mongodb://localhost:27017/\")\n",
    "db = client['clearml']\n",
    "collection = db['crawled_data']\n",
    "client = QdrantClient(host=\"localhost\", port=6333)\n"
   ]
  },
  {
   "cell_type": "code",
   "execution_count": 13,
   "metadata": {},
   "outputs": [],
   "source": [
    "\n",
    "load_dotenv()\n",
    "\n",
    "openai.api_key = os.getenv('OPEN_AI_API_KEY')\n",
    "\n",
    "def generate_embeddings(text):\n",
    "    print(text)\n",
    "    response = openai.embeddings.create(\n",
    "        input=text,\n",
    "        model=\"text-embedding-ada-002\"\n",
    "    )\n",
    "    return response.data[0].embedding\n"
   ]
  },
  {
   "cell_type": "code",
   "execution_count": 18,
   "metadata": {},
   "outputs": [],
   "source": [
    "def RAG_Context (query):\n",
    "    query_embedding = generate_embeddings(query)\n",
    "    results = client.search(\n",
    "    collection_name=\"robotics-documents\",\n",
    "    query_vector=query_embedding,\n",
    "    limit=3\n",
    "    )\n",
    "    context = \"\\n\\n\".join([f\"Title: {match.payload['title']}\\n{match.payload['content']}\" for match in results])\n",
    "    return context\n",
    "    "
   ]
  },
  {
   "cell_type": "code",
   "execution_count": 17,
   "metadata": {},
   "outputs": [],
   "source": [
    "def generateResponse(query, context):\n",
    "    response = openai.chat.completions.create(\n",
    "    model=\"gpt-3.5-turbo\",  # Use \"gpt-4\" if you want a more advanced model\n",
    "    messages=[\n",
    "        {\"role\": \"system\", \"content\": \"You are a helpful assistant for answering questions based on provided context.\"},\n",
    "        {\"role\": \"user\", \"content\": f\"Context:\\n{context}\\n\\nQuestion: {query}\\nAnswer:\"}\n",
    "    ],\n",
    "    max_tokens=200,\n",
    "    temperature=0  # Adjust temperature for deterministic responses\n",
    ")\n",
    "    return response.choices[0].message.content\n"
   ]
  },
  {
   "cell_type": "code",
   "execution_count": 30,
   "metadata": {},
   "outputs": [
    {
     "name": "stdout",
     "output_type": "stream",
     "text": [
      "* Running on local URL:  http://127.0.0.1:7868\n",
      "\n",
      "To create a public link, set `share=True` in `launch()`.\n"
     ]
    },
    {
     "data": {
      "text/html": [
       "<div><iframe src=\"http://127.0.0.1:7868/\" width=\"100%\" height=\"500\" allow=\"autoplay; camera; microphone; clipboard-read; clipboard-write;\" frameborder=\"0\" allowfullscreen></iframe></div>"
      ],
      "text/plain": [
       "<IPython.core.display.HTML object>"
      ]
     },
     "metadata": {},
     "output_type": "display_data"
    },
    {
     "data": {
      "text/plain": []
     },
     "execution_count": 30,
     "metadata": {},
     "output_type": "execute_result"
    },
    {
     "name": "stdout",
     "output_type": "stream",
     "text": [
      "Tell me how can I navigate to a specific pose - include replanning aspects in your answer.\n",
      "To navigate to a specific pose in ROS 2 with the Nav2 framework, you can follow these steps:\n",
      "\n",
      "1. **Set Up the Environment**:\n",
      "   - Ensure you have your robot model and world set up in Gazebo.\n",
      "   - Launch the Nav2 infrastructure, including the necessary components like AMCL for localization.\n",
      "\n",
      "2. **Create a Behavior Tree**:\n",
      "   - Define a behavior tree that includes nodes for moving the robot to different poses.\n",
      "   - Each node in the behavior tree corresponds to a specific location where the robot should navigate.\n",
      "\n",
      "3. **Implement the Behavior Tree in C++**:\n",
      "   - Create a C++ package for your application layer, such as `tb3_autonomy`.\n",
      "   - Implement the behavior tree logic in this package using Behavior Tree CPP Library.\n",
      "\n",
      "4. **Launch the Autonomy Node**:\n",
      "   - Create a launch file for launching the autonomy node, which will execute the behavior tree logic.\n",
      "   - Include the necessary parameters for specifying the locations the\n",
      "\n",
      "The video discusses the differences between ROS 1 and ROS 2 in the context of robotics. Here are the main points covered in the video:\n",
      "\n",
      "1. Third-party Middleware: ROS 1 uses its own network stack for communication between nodes, while ROS 2 uses a third-party middleware called DDS (Data Distribution Service) which is proven and stable in the industry.\n",
      "\n",
      "2. No ROS Master: In ROS 2, nodes can find each other without the need for a ROS Master, allowing new nodes to join the network at any time.\n",
      "\n",
      "3. Shared Implementation for C++ and Python: ROS 2 has a shared backend code base for both C++ and Python, ensuring consistent functionality across both languages.\n",
      "\n",
      "4. Multiple ROS Nodes in One Process: ROS 2 allows for the creation of multiple nodes within a single process, which was not possible in ROS 1.\n",
      "\n",
      "5. Action Services: ROS 2 integrates action services into the core library, whereas in ROS 1, action services were part\n",
      "Tell me how can I navigate to a specific pose - include replanning aspects in your answer.\n",
      "To navigate to a specific pose in ROS 2 with replanning aspects, you can follow these steps using the Navigation 2 framework:\n",
      "\n",
      "1. **Set Up Navigation 2 Infrastructure**: Ensure you have your robot model, world setup, and Navigation 2 launch files ready to bring up the navigation infrastructure.\n",
      "\n",
      "2. **Create a Behavior Tree**: Design a Behavior Tree using Behavior Tree CPP Library to control the robot's movement. Each leaf node in the Behavior Tree corresponds to a specific position the robot needs to navigate to.\n",
      "\n",
      "3. **Implement Behavior Tree Nodes**: Create a custom C++ package for your application layer (e.g., tb3_autonomy) where you implement Behavior Tree nodes for each navigation point. Each node should send navigation goals to the Navigation 2 framework.\n",
      "\n",
      "4. **Utilize Action Clients**: Use Action Clients to communicate with the Navigation 2 framework and send navigation goals to move the robot to specific locations.\n",
      "\n",
      "5. **Handle Replanning**: To incorporate replanning aspects,\n"
     ]
    }
   ],
   "source": [
    "import gradio as gr\n",
    "\n",
    "# Prefilled suggestions for the dropdown\n",
    "suggestions = [\n",
    "    \"Tell me how can I navigate to a specific pose - include replanning aspects in your answer.\",\n",
    "    \"What is ROS2\",\n",
    "    \"What are the three different communication channels?\"\n",
    "]\n",
    "\n",
    "# Function to handle the query\n",
    "def getResp(query):\n",
    "    context = RAG_Context(query)\n",
    "    resp = generateResponse(query, context)\n",
    "    print(resp)\n",
    "    return resp\n",
    "\n",
    "# Function to handle dropdown selection and refill the text box\n",
    "def update_text(selected):\n",
    "    return selected  # The selected suggestion replaces the text box content\n",
    "\n",
    "# Gradio interface setup\n",
    "with gr.Blocks() as demo:\n",
    "    with gr.Row():\n",
    "        dropdown = gr.Dropdown(\n",
    "            choices=suggestions, \n",
    "            label=\"Suggestions\", \n",
    "            interactive=True\n",
    "        )\n",
    "        textbox = gr.Textbox(\n",
    "            placeholder=\"Type your query here...\",\n",
    "            label=\"Your Query\",\n",
    "            lines=2\n",
    "        )\n",
    "    # Update textbox when dropdown changes\n",
    "    dropdown.change(update_text, inputs=[dropdown], outputs=[textbox])\n",
    "    submit_button = gr.Button(\"Submit\")\n",
    "    response_box = gr.Textbox(label=\"Response\")\n",
    "\n",
    "    # Handle submission\n",
    "    submit_button.click(getResp, inputs=[textbox], outputs=[response_box])\n",
    "\n",
    "demo.launch()\n"
   ]
  },
  {
   "cell_type": "code",
   "execution_count": null,
   "metadata": {},
   "outputs": [],
   "source": []
  },
  {
   "cell_type": "code",
   "execution_count": 9,
   "metadata": {},
   "outputs": [
    {
     "ename": "NameError",
     "evalue": "name 'generate_embeddings' is not defined",
     "output_type": "error",
     "traceback": [
      "\u001b[1;31m---------------------------------------------------------------------------\u001b[0m",
      "\u001b[1;31mNameError\u001b[0m                                 Traceback (most recent call last)",
      "Cell \u001b[1;32mIn[9], line 2\u001b[0m\n\u001b[0;32m      1\u001b[0m query \u001b[38;5;241m=\u001b[39m \u001b[38;5;124m\"\u001b[39m\u001b[38;5;124mWhat are the three different communication channels?\u001b[39m\u001b[38;5;124m\"\u001b[39m\n\u001b[1;32m----> 2\u001b[0m query_embedding \u001b[38;5;241m=\u001b[39m \u001b[43mgenerate_embeddings\u001b[49m(query)\n\u001b[0;32m      4\u001b[0m results \u001b[38;5;241m=\u001b[39m client\u001b[38;5;241m.\u001b[39msearch(\n\u001b[0;32m      5\u001b[0m     collection_name\u001b[38;5;241m=\u001b[39m\u001b[38;5;124m\"\u001b[39m\u001b[38;5;124mrobotics-documents\u001b[39m\u001b[38;5;124m\"\u001b[39m,\n\u001b[0;32m      6\u001b[0m     query_vector\u001b[38;5;241m=\u001b[39mquery_embedding,\n\u001b[0;32m      7\u001b[0m     limit\u001b[38;5;241m=\u001b[39m\u001b[38;5;241m3\u001b[39m\n\u001b[0;32m      8\u001b[0m )\n\u001b[0;32m     10\u001b[0m \u001b[38;5;28;01mfor\u001b[39;00m match \u001b[38;5;129;01min\u001b[39;00m results:\n",
      "\u001b[1;31mNameError\u001b[0m: name 'generate_embeddings' is not defined"
     ]
    }
   ],
   "source": [
    "query = \"What are the three different communication channels?\"\n",
    "query_embedding = generate_embeddings(query)\n",
    "\n",
    "results = client.search(\n",
    "    collection_name=\"robotics-documents\",\n",
    "    query_vector=query_embedding,\n",
    "    limit=3\n",
    ")\n",
    "\n",
    "for match in results:\n",
    "    print(f\"Title: {match.payload['title']}\")\n",
    "    print(f\"Content: {match.payload['content']}\")\n",
    "    print(f\"Platform: {match.payload['platform']}\")\n",
    "    print(f\"Link: {match.payload['link']}\\n\")"
   ]
  }
 ],
 "metadata": {
  "kernelspec": {
   "display_name": ".venv",
   "language": "python",
   "name": "python3"
  },
  "language_info": {
   "codemirror_mode": {
    "name": "ipython",
    "version": 3
   },
   "file_extension": ".py",
   "mimetype": "text/x-python",
   "name": "python",
   "nbconvert_exporter": "python",
   "pygments_lexer": "ipython3",
   "version": "3.12.8"
  }
 },
 "nbformat": 4,
 "nbformat_minor": 2
}
