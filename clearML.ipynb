{
 "cells": [
  {
   "cell_type": "code",
   "execution_count": 1,
   "metadata": {},
   "outputs": [
    {
     "data": {
      "text/plain": [
       "True"
      ]
     },
     "execution_count": 1,
     "metadata": {},
     "output_type": "execute_result"
    }
   ],
   "source": [
    "from dotenv import load_dotenv\n",
    "\n",
    "load_dotenv()"
   ]
  },
  {
   "cell_type": "code",
   "execution_count": 3,
   "metadata": {},
   "outputs": [
    {
     "name": "stderr",
     "output_type": "stream",
     "text": [
      "Retrying (Retry(total=239, connect=240, read=239, redirect=240, status=240)) after connection broken by 'ProtocolError('Connection aborted.', RemoteDisconnected('Remote end closed connection without response'))': /auth.login\n",
      "Retrying (Retry(total=238, connect=240, read=238, redirect=240, status=240)) after connection broken by 'ProtocolError('Connection aborted.', RemoteDisconnected('Remote end closed connection without response'))': /auth.login\n",
      "Retrying (Retry(total=237, connect=240, read=237, redirect=240, status=240)) after connection broken by 'ProtocolError('Connection aborted.', RemoteDisconnected('Remote end closed connection without response'))': /auth.login\n",
      "Retrying (Retry(total=236, connect=240, read=236, redirect=240, status=240)) after connection broken by 'ProtocolError('Connection aborted.', RemoteDisconnected('Remote end closed connection without response'))': /auth.login\n",
      "Retrying (Retry(total=235, connect=240, read=235, redirect=240, status=240)) after connection broken by 'ProtocolError('Connection aborted.', ConnectionAbortedError(10053, 'An established connection was aborted by the software in your host machine', None, 10053, None))': /auth.login\n",
      "Retrying (Retry(total=234, connect=240, read=234, redirect=240, status=240)) after connection broken by 'ProtocolError('Connection aborted.', RemoteDisconnected('Remote end closed connection without response'))': /auth.login\n"
     ]
    },
    {
     "name": "stdout",
     "output_type": "stream",
     "text": [
      "ClearML Task: overwriting (reusing) task id=bb77dc229f444135b608a7dd259a2456\n",
      "2024-12-05 22:52:04,894 - clearml.Repository Detection - WARNING - Could not read Jupyter Notebook: No module named 'nbconvert'\n",
      "2024-12-05 22:52:04,902 - clearml.Repository Detection - WARNING - Please install nbconvert using \"pip install nbconvert\"\n",
      "ClearML results page: http://localhost:8080/projects/3c3dca855cef4a879fa609fd0c883781/experiments/bb77dc229f444135b608a7dd259a2456/output/log\n",
      "2024-12-05 22:52:05,028 - clearml.Task - INFO - Storing jupyter notebook directly as code\n"
     ]
    },
    {
     "name": "stdout",
     "output_type": "stream",
     "text": [
      "ClearML Monitor: Could not detect iteration reporting, falling back to iterations as seconds-from-start\n"
     ]
    },
    {
     "name": "stderr",
     "output_type": "stream",
     "text": [
      "Retrying (Retry(total=237, connect=237, read=240, redirect=240, status=240)) after connection broken by 'NewConnectionError('<urllib3.connection.HTTPConnection object at 0x000002EFFCAF0690>: Failed to establish a new connection: [WinError 10061] No connection could be made because the target machine actively refused it')': /v2.23/tasks.get_all\n",
      "Retrying (Retry(total=236, connect=236, read=240, redirect=240, status=240)) after connection broken by 'NewConnectionError('<urllib3.connection.HTTPConnection object at 0x000002EFFCAF1690>: Failed to establish a new connection: [WinError 10061] No connection could be made because the target machine actively refused it')': /v2.23/tasks.get_all\n",
      "Retrying (Retry(total=237, connect=237, read=240, redirect=240, status=240)) after connection broken by 'NewConnectionError('<urllib3.connection.HTTPConnection object at 0x000002EFFCC27C50>: Failed to establish a new connection: [WinError 10061] No connection could be made because the target machine actively refused it')': /v2.23/events.add_batch\n",
      "Retrying (Retry(total=237, connect=237, read=240, redirect=240, status=240)) after connection broken by 'NewConnectionError('<urllib3.connection.HTTPConnection object at 0x000002EFFCC30690>: Failed to establish a new connection: [WinError 10061] No connection could be made because the target machine actively refused it')': /v2.23/events.add_batch\n",
      "Retrying (Retry(total=236, connect=236, read=240, redirect=240, status=240)) after connection broken by 'NewConnectionError('<urllib3.connection.HTTPConnection object at 0x000002EFFCC33310>: Failed to establish a new connection: [WinError 10061] No connection could be made because the target machine actively refused it')': /v2.23/events.add_batch\n",
      "Retrying (Retry(total=236, connect=236, read=240, redirect=240, status=240)) after connection broken by 'NewConnectionError('<urllib3.connection.HTTPConnection object at 0x000002EFFCC33F50>: Failed to establish a new connection: [WinError 10061] No connection could be made because the target machine actively refused it')': /v2.23/events.add_batch\n",
      "Retrying (Retry(total=235, connect=235, read=240, redirect=240, status=240)) after connection broken by 'NewConnectionError('<urllib3.connection.HTTPConnection object at 0x000002EFFCC317D0>: Failed to establish a new connection: [WinError 10061] No connection could be made because the target machine actively refused it')': /v2.23/tasks.get_all\n",
      "Retrying (Retry(total=235, connect=235, read=240, redirect=240, status=240)) after connection broken by 'NewConnectionError('<urllib3.connection.HTTPConnection object at 0x000002EFFCC3A050>: Failed to establish a new connection: [WinError 10061] No connection could be made because the target machine actively refused it')': /v2.23/events.add_batch\n",
      "Retrying (Retry(total=235, connect=235, read=240, redirect=240, status=240)) after connection broken by 'NewConnectionError('<urllib3.connection.HTTPConnection object at 0x000002EFFCC3AFD0>: Failed to establish a new connection: [WinError 10061] No connection could be made because the target machine actively refused it')': /v2.23/events.add_batch\n",
      "Retrying (Retry(total=234, connect=234, read=240, redirect=240, status=240)) after connection broken by 'NewConnectionError('<urllib3.connection.HTTPConnection object at 0x000002EFFCC3BDD0>: Failed to establish a new connection: [WinError 10061] No connection could be made because the target machine actively refused it')': /v2.23/tasks.get_all\n",
      "Retrying (Retry(total=234, connect=234, read=240, redirect=240, status=240)) after connection broken by 'NewConnectionError('<urllib3.connection.HTTPConnection object at 0x000002EFFCC45E50>: Failed to establish a new connection: [WinError 10061] No connection could be made because the target machine actively refused it')': /v2.23/events.add_batch\n",
      "Retrying (Retry(total=234, connect=234, read=240, redirect=240, status=240)) after connection broken by 'NewConnectionError('<urllib3.connection.HTTPConnection object at 0x000002EFFCC45A90>: Failed to establish a new connection: [WinError 10061] No connection could be made because the target machine actively refused it')': /v2.23/events.add_batch\n",
      "Retrying (Retry(total=233, connect=233, read=240, redirect=240, status=240)) after connection broken by 'NewConnectionError('<urllib3.connection.HTTPConnection object at 0x000002EFFCC50650>: Failed to establish a new connection: [WinError 10061] No connection could be made because the target machine actively refused it')': /v2.23/tasks.get_all\n",
      "Retrying (Retry(total=233, connect=233, read=240, redirect=240, status=240)) after connection broken by 'NewConnectionError('<urllib3.connection.HTTPConnection object at 0x000002EFFCC518D0>: Failed to establish a new connection: [WinError 10061] No connection could be made because the target machine actively refused it')': /v2.23/events.add_batch\n",
      "Retrying (Retry(total=233, connect=233, read=240, redirect=240, status=240)) after connection broken by 'NewConnectionError('<urllib3.connection.HTTPConnection object at 0x000002EFFCC32CD0>: Failed to establish a new connection: [WinError 10061] No connection could be made because the target machine actively refused it')': /v2.23/events.add_batch\n",
      "Retrying (Retry(total=232, connect=232, read=240, redirect=240, status=240)) after connection broken by 'NewConnectionError('<urllib3.connection.HTTPConnection object at 0x000002EFFCC644D0>: Failed to establish a new connection: [WinError 10061] No connection could be made because the target machine actively refused it')': /v2.23/tasks.get_all\n",
      "Retrying (Retry(total=232, connect=232, read=240, redirect=240, status=240)) after connection broken by 'NewConnectionError('<urllib3.connection.HTTPConnection object at 0x000002EFFCC658D0>: Failed to establish a new connection: [WinError 10061] No connection could be made because the target machine actively refused it')': /v2.23/events.add_batch\n",
      "Retrying (Retry(total=232, connect=232, read=240, redirect=240, status=240)) after connection broken by 'NewConnectionError('<urllib3.connection.HTTPConnection object at 0x000002EFFCC66810>: Failed to establish a new connection: [WinError 10061] No connection could be made because the target machine actively refused it')': /v2.23/events.add_batch\n",
      "Retrying (Retry(total=231, connect=231, read=240, redirect=240, status=240)) after connection broken by 'NewConnectionError('<urllib3.connection.HTTPConnection object at 0x000002EFFCC84850>: Failed to establish a new connection: [WinError 10061] No connection could be made because the target machine actively refused it')': /v2.23/tasks.get_all\n",
      "Retrying (Retry(total=231, connect=231, read=240, redirect=240, status=240)) after connection broken by 'NewConnectionError('<urllib3.connection.HTTPConnection object at 0x000002EFFCC85A90>: Failed to establish a new connection: [WinError 10061] No connection could be made because the target machine actively refused it')': /v2.23/events.add_batch\n",
      "Retrying (Retry(total=231, connect=231, read=240, redirect=240, status=240)) after connection broken by 'NewConnectionError('<urllib3.connection.HTTPConnection object at 0x000002EFFCC86910>: Failed to establish a new connection: [WinError 10061] No connection could be made because the target machine actively refused it')': /v2.23/events.add_batch\n",
      "Retrying (Retry(total=230, connect=230, read=240, redirect=240, status=240)) after connection broken by 'NewConnectionError('<urllib3.connection.HTTPConnection object at 0x000002EFFCC90B50>: Failed to establish a new connection: [WinError 10061] No connection could be made because the target machine actively refused it')': /v2.23/tasks.get_all\n",
      "Retrying (Retry(total=230, connect=230, read=240, redirect=240, status=240)) after connection broken by 'NewConnectionError('<urllib3.connection.HTTPConnection object at 0x000002EFFCC91FD0>: Failed to establish a new connection: [WinError 10061] No connection could be made because the target machine actively refused it')': /v2.23/events.add_batch\n",
      "Retrying (Retry(total=230, connect=230, read=240, redirect=240, status=240)) after connection broken by 'NewConnectionError('<urllib3.connection.HTTPConnection object at 0x000002EFFCC92C90>: Failed to establish a new connection: [WinError 10061] No connection could be made because the target machine actively refused it')': /v2.23/events.add_batch\n",
      "Retrying (Retry(total=229, connect=229, read=240, redirect=240, status=240)) after connection broken by 'NewConnectionError('<urllib3.connection.HTTPConnection object at 0x000002EFFCC9CDD0>: Failed to establish a new connection: [WinError 10061] No connection could be made because the target machine actively refused it')': /v2.23/tasks.get_all\n",
      "Retrying (Retry(total=229, connect=229, read=240, redirect=240, status=240)) after connection broken by 'NewConnectionError('<urllib3.connection.HTTPConnection object at 0x000002EFFCC9E2D0>: Failed to establish a new connection: [WinError 10061] No connection could be made because the target machine actively refused it')': /v2.23/events.add_batch\n",
      "Retrying (Retry(total=229, connect=229, read=240, redirect=240, status=240)) after connection broken by 'NewConnectionError('<urllib3.connection.HTTPConnection object at 0x000002EFFCC9F090>: Failed to establish a new connection: [WinError 10061] No connection could be made because the target machine actively refused it')': /v2.23/events.add_batch\n",
      "Retrying (Retry(total=228, connect=228, read=240, redirect=240, status=240)) after connection broken by 'NewConnectionError('<urllib3.connection.HTTPConnection object at 0x000002EFFCCB1010>: Failed to establish a new connection: [WinError 10061] No connection could be made because the target machine actively refused it')': /v2.23/tasks.get_all\n",
      "Retrying (Retry(total=228, connect=228, read=240, redirect=240, status=240)) after connection broken by 'NewConnectionError('<urllib3.connection.HTTPConnection object at 0x000002EFFCCB2510>: Failed to establish a new connection: [WinError 10061] No connection could be made because the target machine actively refused it')': /v2.23/events.add_batch\n",
      "Retrying (Retry(total=228, connect=228, read=240, redirect=240, status=240)) after connection broken by 'NewConnectionError('<urllib3.connection.HTTPConnection object at 0x000002EFFCCB3110>: Failed to establish a new connection: [WinError 10061] No connection could be made because the target machine actively refused it')': /v2.23/events.add_batch\n",
      "Retrying (Retry(total=227, connect=227, read=240, redirect=240, status=240)) after connection broken by 'NewConnectionError('<urllib3.connection.HTTPConnection object at 0x000002EFFCCB3090>: Failed to establish a new connection: [WinError 10061] No connection could be made because the target machine actively refused it')': /v2.23/tasks.get_all\n",
      "Retrying (Retry(total=227, connect=227, read=240, redirect=240, status=240)) after connection broken by 'NewConnectionError('<urllib3.connection.HTTPConnection object at 0x000002EFFCCC2410>: Failed to establish a new connection: [WinError 10061] No connection could be made because the target machine actively refused it')': /v2.23/events.add_batch\n",
      "Retrying (Retry(total=227, connect=227, read=240, redirect=240, status=240)) after connection broken by 'NewConnectionError('<urllib3.connection.HTTPConnection object at 0x000002EFFCCC3050>: Failed to establish a new connection: [WinError 10061] No connection could be made because the target machine actively refused it')': /v2.23/events.add_batch\n",
      "Retrying (Retry(total=226, connect=226, read=240, redirect=240, status=240)) after connection broken by 'NewConnectionError('<urllib3.connection.HTTPConnection object at 0x000002EFFCCD51D0>: Failed to establish a new connection: [WinError 10061] No connection could be made because the target machine actively refused it')': /v2.23/tasks.get_all\n",
      "Retrying (Retry(total=226, connect=226, read=240, redirect=240, status=240)) after connection broken by 'NewConnectionError('<urllib3.connection.HTTPConnection object at 0x000002EFFCCD6650>: Failed to establish a new connection: [WinError 10061] No connection could be made because the target machine actively refused it')': /v2.23/events.add_batch\n",
      "Retrying (Retry(total=226, connect=226, read=240, redirect=240, status=240)) after connection broken by 'NewConnectionError('<urllib3.connection.HTTPConnection object at 0x000002EFFCCD7510>: Failed to establish a new connection: [WinError 10061] No connection could be made because the target machine actively refused it')': /v2.23/events.add_batch\n",
      "Retrying (Retry(total=225, connect=225, read=240, redirect=240, status=240)) after connection broken by 'NewConnectionError('<urllib3.connection.HTTPConnection object at 0x000002EFFCCE1790>: Failed to establish a new connection: [WinError 10061] No connection could be made because the target machine actively refused it')': /v2.23/tasks.get_all\n",
      "Retrying (Retry(total=225, connect=225, read=240, redirect=240, status=240)) after connection broken by 'NewConnectionError('<urllib3.connection.HTTPConnection object at 0x000002EFFCCE2890>: Failed to establish a new connection: [WinError 10061] No connection could be made because the target machine actively refused it')': /v2.23/events.add_batch\n",
      "Retrying (Retry(total=225, connect=225, read=240, redirect=240, status=240)) after connection broken by 'NewConnectionError('<urllib3.connection.HTTPConnection object at 0x000002EFFCCE3410>: Failed to establish a new connection: [WinError 10061] No connection could be made because the target machine actively refused it')': /v2.23/events.add_batch\n",
      "Retrying (Retry(total=224, connect=225, read=239, redirect=240, status=240)) after connection broken by 'ProtocolError('Connection aborted.', RemoteDisconnected('Remote end closed connection without response'))': /v2.23/tasks.get_all\n",
      "Retrying (Retry(total=237, connect=239, read=238, redirect=240, status=240)) after connection broken by 'NewConnectionError('<urllib3.connection.HTTPConnection object at 0x000002EFFCD1CBD0>: Failed to establish a new connection: [WinError 10061] No connection could be made because the target machine actively refused it')': /v2.23/tasks.get_all\n",
      "Retrying (Retry(total=236, connect=238, read=238, redirect=240, status=240)) after connection broken by 'NewConnectionError('<urllib3.connection.HTTPConnection object at 0x000002EFFCCF3C10>: Failed to establish a new connection: [WinError 10061] No connection could be made because the target machine actively refused it')': /v2.23/tasks.get_all\n",
      "Retrying (Retry(total=237, connect=237, read=240, redirect=240, status=240)) after connection broken by 'NewConnectionError('<urllib3.connection.HTTPConnection object at 0x000002EFFCD2D750>: Failed to establish a new connection: [WinError 10061] No connection could be made because the target machine actively refused it')': /v2.23/events.add_batch\n",
      "Retrying (Retry(total=237, connect=240, read=237, redirect=240, status=240)) after connection broken by 'ProtocolError('Connection aborted.', RemoteDisconnected('Remote end closed connection without response'))': /v2.23/events.add_batch\n",
      "Retrying (Retry(total=236, connect=237, read=239, redirect=240, status=240)) after connection broken by 'ProtocolError('Connection aborted.', RemoteDisconnected('Remote end closed connection without response'))': /v2.23/events.add_batch\n",
      "Retrying (Retry(total=236, connect=240, read=236, redirect=240, status=240)) after connection broken by 'ProtocolError('Connection aborted.', RemoteDisconnected('Remote end closed connection without response'))': /v2.23/events.add_batch\n",
      "Retrying (Retry(total=235, connect=237, read=238, redirect=240, status=240)) after connection broken by 'NewConnectionError('<urllib3.connection.HTTPConnection object at 0x000002EFFCD2E510>: Failed to establish a new connection: [WinError 10061] No connection could be made because the target machine actively refused it')': /v2.23/tasks.get_all\n",
      "Retrying (Retry(total=235, connect=237, read=238, redirect=240, status=240)) after connection broken by 'ProtocolError('Connection aborted.', ConnectionAbortedError(10053, 'An established connection was aborted by the software in your host machine', None, 10053, None))': /v2.23/events.add_batch\n",
      "Retrying (Retry(total=235, connect=240, read=235, redirect=240, status=240)) after connection broken by 'ProtocolError('Connection aborted.', RemoteDisconnected('Remote end closed connection without response'))': /v2.23/events.add_batch\n",
      "Retrying (Retry(total=234, connect=237, read=237, redirect=240, status=240)) after connection broken by 'ProtocolError('Connection aborted.', RemoteDisconnected('Remote end closed connection without response'))': /v2.23/tasks.get_all\n",
      "Retrying (Retry(total=234, connect=237, read=237, redirect=240, status=240)) after connection broken by 'ProtocolError('Connection aborted.', ConnectionAbortedError(10053, 'An established connection was aborted by the software in your host machine', None, 10053, None))': /v2.23/events.add_batch\n",
      "Retrying (Retry(total=234, connect=240, read=234, redirect=240, status=240)) after connection broken by 'ProtocolError('Connection aborted.', RemoteDisconnected('Remote end closed connection without response'))': /v2.23/events.add_batch\n",
      "Retrying (Retry(total=237, connect=237, read=240, redirect=240, status=240)) after connection broken by 'NewConnectionError('<urllib3.connection.HTTPConnection object at 0x000002EFFCD39610>: Failed to establish a new connection: [WinError 10061] No connection could be made because the target machine actively refused it')': /v2.23/tasks.get_all\n",
      "Retrying (Retry(total=237, connect=239, read=238, redirect=240, status=240)) after connection broken by 'ProtocolError('Connection aborted.', ConnectionAbortedError(10053, 'An established connection was aborted by the software in your host machine', None, 10053, None))': /v2.23/events.add_batch\n",
      "Retrying (Retry(total=237, connect=240, read=237, redirect=240, status=240)) after connection broken by 'ProtocolError('Connection aborted.', ConnectionAbortedError(10053, 'An established connection was aborted by the software in your host machine', None, 10053, None))': /v2.23/events.add_batch\n",
      "Retrying (Retry(total=236, connect=237, read=239, redirect=240, status=240)) after connection broken by 'ProtocolError('Connection aborted.', RemoteDisconnected('Remote end closed connection without response'))': /v2.23/tasks.get_all\n",
      "Retrying (Retry(total=236, connect=239, read=237, redirect=240, status=240)) after connection broken by 'ProtocolError('Connection aborted.', RemoteDisconnected('Remote end closed connection without response'))': /v2.23/events.add_batch\n",
      "Retrying (Retry(total=236, connect=240, read=236, redirect=240, status=240)) after connection broken by 'ProtocolError('Connection aborted.', ConnectionAbortedError(10053, 'An established connection was aborted by the software in your host machine', None, 10053, None))': /v2.23/events.add_batch\n",
      "Retrying (Retry(total=235, connect=237, read=238, redirect=240, status=240)) after connection broken by 'ProtocolError('Connection aborted.', RemoteDisconnected('Remote end closed connection without response'))': /v2.23/tasks.get_all\n",
      "Retrying (Retry(total=235, connect=239, read=236, redirect=240, status=240)) after connection broken by 'ProtocolError('Connection aborted.', RemoteDisconnected('Remote end closed connection without response'))': /v2.23/events.add_batch\n",
      "Retrying (Retry(total=235, connect=240, read=235, redirect=240, status=240)) after connection broken by 'ProtocolError('Connection aborted.', RemoteDisconnected('Remote end closed connection without response'))': /v2.23/events.add_batch\n",
      "Retrying (Retry(total=234, connect=237, read=237, redirect=240, status=240)) after connection broken by 'ProtocolError('Connection aborted.', ConnectionAbortedError(10053, 'An established connection was aborted by the software in your host machine', None, 10053, None))': /v2.23/tasks.get_all\n",
      "Retrying (Retry(total=234, connect=239, read=235, redirect=240, status=240)) after connection broken by 'ProtocolError('Connection aborted.', RemoteDisconnected('Remote end closed connection without response'))': /v2.23/events.add_batch\n",
      "Retrying (Retry(total=234, connect=240, read=234, redirect=240, status=240)) after connection broken by 'ProtocolError('Connection aborted.', RemoteDisconnected('Remote end closed connection without response'))': /v2.23/events.add_batch\n",
      "Retrying (Retry(total=237, connect=239, read=238, redirect=240, status=240)) after connection broken by 'NewConnectionError('<urllib3.connection.HTTPConnection object at 0x000002EFFCD1DF90>: Failed to establish a new connection: [WinError 10061] No connection could be made because the target machine actively refused it')': /v2.23/tasks.get_all\n",
      "Retrying (Retry(total=236, connect=238, read=238, redirect=240, status=240)) after connection broken by 'NewConnectionError('<urllib3.connection.HTTPConnection object at 0x000002EFFCD3F990>: Failed to establish a new connection: [WinError 10061] No connection could be made because the target machine actively refused it')': /v2.23/tasks.get_all\n",
      "Retrying (Retry(total=237, connect=237, read=240, redirect=240, status=240)) after connection broken by 'NewConnectionError('<urllib3.connection.HTTPConnection object at 0x000002EFFCD07290>: Failed to establish a new connection: [WinError 10061] No connection could be made because the target machine actively refused it')': /v2.23/events.add_batch\n",
      "Retrying (Retry(total=237, connect=237, read=240, redirect=240, status=240)) after connection broken by 'NewConnectionError('<urllib3.connection.HTTPConnection object at 0x000002EFFCD05B50>: Failed to establish a new connection: [WinError 10061] No connection could be made because the target machine actively refused it')': /v2.23/events.add_batch\n",
      "Retrying (Retry(total=236, connect=236, read=240, redirect=240, status=240)) after connection broken by 'NewConnectionError('<urllib3.connection.HTTPConnection object at 0x000002EFFCD52C90>: Failed to establish a new connection: [WinError 10061] No connection could be made because the target machine actively refused it')': /v2.23/events.add_batch\n",
      "Retrying (Retry(total=236, connect=236, read=240, redirect=240, status=240)) after connection broken by 'NewConnectionError('<urllib3.connection.HTTPConnection object at 0x000002EFFCD53890>: Failed to establish a new connection: [WinError 10061] No connection could be made because the target machine actively refused it')': /v2.23/events.add_batch\n",
      "Retrying (Retry(total=235, connect=237, read=238, redirect=240, status=240)) after connection broken by 'NewConnectionError('<urllib3.connection.HTTPConnection object at 0x000002EFFCD46950>: Failed to establish a new connection: [WinError 10061] No connection could be made because the target machine actively refused it')': /v2.23/tasks.get_all\n",
      "Retrying (Retry(total=235, connect=235, read=240, redirect=240, status=240)) after connection broken by 'NewConnectionError('<urllib3.connection.HTTPConnection object at 0x000002EFFCD65910>: Failed to establish a new connection: [WinError 10061] No connection could be made because the target machine actively refused it')': /v2.23/events.add_batch\n",
      "Retrying (Retry(total=235, connect=235, read=240, redirect=240, status=240)) after connection broken by 'NewConnectionError('<urllib3.connection.HTTPConnection object at 0x000002EFFCD66490>: Failed to establish a new connection: [WinError 10061] No connection could be made because the target machine actively refused it')': /v2.23/events.add_batch\n",
      "Retrying (Retry(total=234, connect=236, read=238, redirect=240, status=240)) after connection broken by 'NewConnectionError('<urllib3.connection.HTTPConnection object at 0x000002EFFCD67290>: Failed to establish a new connection: [WinError 10061] No connection could be made because the target machine actively refused it')': /v2.23/tasks.get_all\n",
      "Retrying (Retry(total=234, connect=234, read=240, redirect=240, status=240)) after connection broken by 'NewConnectionError('<urllib3.connection.HTTPConnection object at 0x000002EFFCD6D150>: Failed to establish a new connection: [WinError 10061] No connection could be made because the target machine actively refused it')': /v2.23/events.add_batch\n",
      "Retrying (Retry(total=234, connect=234, read=240, redirect=240, status=240)) after connection broken by 'NewConnectionError('<urllib3.connection.HTTPConnection object at 0x000002EFFCD6E610>: Failed to establish a new connection: [WinError 10061] No connection could be made because the target machine actively refused it')': /v2.23/events.add_batch\n",
      "Retrying (Retry(total=233, connect=235, read=238, redirect=240, status=240)) after connection broken by 'NewConnectionError('<urllib3.connection.HTTPConnection object at 0x000002EFFCD748D0>: Failed to establish a new connection: [WinError 10061] No connection could be made because the target machine actively refused it')': /v2.23/tasks.get_all\n",
      "Retrying (Retry(total=233, connect=233, read=240, redirect=240, status=240)) after connection broken by 'NewConnectionError('<urllib3.connection.HTTPConnection object at 0x000002EFFCD76150>: Failed to establish a new connection: [WinError 10061] No connection could be made because the target machine actively refused it')': /v2.23/events.add_batch\n",
      "Retrying (Retry(total=233, connect=233, read=240, redirect=240, status=240)) after connection broken by 'NewConnectionError('<urllib3.connection.HTTPConnection object at 0x000002EFFCD776D0>: Failed to establish a new connection: [WinError 10061] No connection could be made because the target machine actively refused it')': /v2.23/events.add_batch\n",
      "Retrying (Retry(total=232, connect=234, read=238, redirect=240, status=240)) after connection broken by 'NewConnectionError('<urllib3.connection.HTTPConnection object at 0x000002EFFCD7A410>: Failed to establish a new connection: [WinError 10061] No connection could be made because the target machine actively refused it')': /v2.23/tasks.get_all\n",
      "Retrying (Retry(total=232, connect=232, read=240, redirect=240, status=240)) after connection broken by 'NewConnectionError('<urllib3.connection.HTTPConnection object at 0x000002EFFCD7B850>: Failed to establish a new connection: [WinError 10061] No connection could be made because the target machine actively refused it')': /v2.23/events.add_batch\n",
      "Retrying (Retry(total=232, connect=232, read=240, redirect=240, status=240)) after connection broken by 'NewConnectionError('<urllib3.connection.HTTPConnection object at 0x000002EFFCD88890>: Failed to establish a new connection: [WinError 10061] No connection could be made because the target machine actively refused it')': /v2.23/events.add_batch\n",
      "Retrying (Retry(total=231, connect=233, read=238, redirect=240, status=240)) after connection broken by 'NewConnectionError('<urllib3.connection.HTTPConnection object at 0x000002EFFCD8BD10>: Failed to establish a new connection: [WinError 10061] No connection could be made because the target machine actively refused it')': /v2.23/tasks.get_all\n",
      "Retrying (Retry(total=231, connect=231, read=240, redirect=240, status=240)) after connection broken by 'NewConnectionError('<urllib3.connection.HTTPConnection object at 0x000002EFFCD8DFD0>: Failed to establish a new connection: [WinError 10061] No connection could be made because the target machine actively refused it')': /v2.23/events.add_batch\n",
      "Retrying (Retry(total=231, connect=231, read=240, redirect=240, status=240)) after connection broken by 'NewConnectionError('<urllib3.connection.HTTPConnection object at 0x000002EFFCD8F110>: Failed to establish a new connection: [WinError 10061] No connection could be made because the target machine actively refused it')': /v2.23/events.add_batch\n",
      "Retrying (Retry(total=230, connect=232, read=238, redirect=240, status=240)) after connection broken by 'NewConnectionError('<urllib3.connection.HTTPConnection object at 0x000002EFFCD91A10>: Failed to establish a new connection: [WinError 10061] No connection could be made because the target machine actively refused it')': /v2.23/tasks.get_all\n",
      "Retrying (Retry(total=230, connect=230, read=240, redirect=240, status=240)) after connection broken by 'NewConnectionError('<urllib3.connection.HTTPConnection object at 0x000002EFFCD92E10>: Failed to establish a new connection: [WinError 10061] No connection could be made because the target machine actively refused it')': /v2.23/events.add_batch\n",
      "Retrying (Retry(total=230, connect=230, read=240, redirect=240, status=240)) after connection broken by 'NewConnectionError('<urllib3.connection.HTTPConnection object at 0x000002EFFCD93C10>: Failed to establish a new connection: [WinError 10061] No connection could be made because the target machine actively refused it')': /v2.23/events.add_batch\n",
      "Retrying (Retry(total=229, connect=231, read=238, redirect=240, status=240)) after connection broken by 'NewConnectionError('<urllib3.connection.HTTPConnection object at 0x000002EFFCDA2B10>: Failed to establish a new connection: [WinError 10061] No connection could be made because the target machine actively refused it')': /v2.23/tasks.get_all\n",
      "Retrying (Retry(total=229, connect=229, read=240, redirect=240, status=240)) after connection broken by 'NewConnectionError('<urllib3.connection.HTTPConnection object at 0x000002EFFCDB4550>: Failed to establish a new connection: [WinError 10061] No connection could be made because the target machine actively refused it')': /v2.23/events.add_batch\n",
      "Retrying (Retry(total=229, connect=229, read=240, redirect=240, status=240)) after connection broken by 'NewConnectionError('<urllib3.connection.HTTPConnection object at 0x000002EFFCDB59D0>: Failed to establish a new connection: [WinError 10061] No connection could be made because the target machine actively refused it')': /v2.23/events.add_batch\n"
     ]
    }
   ],
   "source": [
    "import os\n",
    "from clearml import Task\n",
    "task = Task.init(project_name=\"my project\", task_name=\"my task\")"
   ]
  }
 ],
 "metadata": {
  "kernelspec": {
   "display_name": "Python 3",
   "language": "python",
   "name": "python3"
  },
  "language_info": {
   "codemirror_mode": {
    "name": "ipython",
    "version": 3
   },
   "file_extension": ".py",
   "mimetype": "text/x-python",
   "name": "python",
   "nbconvert_exporter": "python",
   "pygments_lexer": "ipython3",
   "version": "3.12.3"
  }
 },
 "nbformat": 4,
 "nbformat_minor": 2
}
